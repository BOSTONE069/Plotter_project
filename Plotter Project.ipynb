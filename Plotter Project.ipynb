{
 "cells": [
  {
   "cell_type": "code",
   "execution_count": 1,
   "id": "ec0bc2ab",
   "metadata": {},
   "outputs": [],
   "source": [
    "import pandas as pd\n",
    "import seaborn as sns\n",
    "import numpy as np\n",
    "import chart_studio.plotly as py\n",
    "import plotly.offline as po\n",
    "import plotly.graph_objs as pg\n",
    "import cufflinks as cf\n",
    "%matplotlib inline"
   ]
  },
  {
   "cell_type": "code",
   "execution_count": 2,
   "id": "2224127a",
   "metadata": {},
   "outputs": [
    {
     "data": {
      "text/html": [
       "        <script type=\"text/javascript\">\n",
       "        window.PlotlyConfig = {MathJaxConfig: 'local'};\n",
       "        if (window.MathJax) {MathJax.Hub.Config({SVG: {font: \"STIX-Web\"}});}\n",
       "        if (typeof require !== 'undefined') {\n",
       "        require.undef(\"plotly\");\n",
       "        requirejs.config({\n",
       "            paths: {\n",
       "                'plotly': ['https://cdn.plot.ly/plotly-latest.min']\n",
       "            }\n",
       "        });\n",
       "        require(['plotly'], function(Plotly) {\n",
       "            window._Plotly = Plotly;\n",
       "        });\n",
       "        }\n",
       "        </script>\n",
       "        "
      ]
     },
     "metadata": {},
     "output_type": "display_data"
    },
    {
     "data": {
      "text/html": [
       "        <script type=\"text/javascript\">\n",
       "        window.PlotlyConfig = {MathJaxConfig: 'local'};\n",
       "        if (window.MathJax) {MathJax.Hub.Config({SVG: {font: \"STIX-Web\"}});}\n",
       "        if (typeof require !== 'undefined') {\n",
       "        require.undef(\"plotly\");\n",
       "        requirejs.config({\n",
       "            paths: {\n",
       "                'plotly': ['https://cdn.plot.ly/plotly-latest.min']\n",
       "            }\n",
       "        });\n",
       "        require(['plotly'], function(Plotly) {\n",
       "            window._Plotly = Plotly;\n",
       "        });\n",
       "        }\n",
       "        </script>\n",
       "        "
      ]
     },
     "metadata": {},
     "output_type": "display_data"
    }
   ],
   "source": [
    "po.init_notebook_mode(connected=True)#this is to enable the making of plotly in offline mode\n",
    "cf.go_offline()"
   ]
  },
  {
   "cell_type": "code",
   "execution_count": 3,
   "id": "6868c475",
   "metadata": {},
   "outputs": [],
   "source": [
    "def createdata(data): #this is defining the creation of the data from the user input\n",
    "    if(data == 1):\n",
    "        x = np.random.rand(100,5)\n",
    "        df1 = pd.DataFrame(x , columns =['A', 'B' , 'C' , 'D' , 'E'])\n",
    "    elif(data == 2):\n",
    "        x = [0,0,0,0,0]\n",
    "        r1 = [0,0,0,0,0]\n",
    "        r2 = [0,0,0,0,0]\n",
    "        r3 = [0,0,0,0,0]\n",
    "        r4 = [0,0,0,0,0]\n",
    "        print('Please Enter the values for the columns')\n",
    "        i=0\n",
    "        for i in [0,1,2,3,4]: #this is a loop for creating the coulumns\n",
    "            x[i] = input()\n",
    "            i = i + 1\n",
    "        print('Please Enter the values for the first row')\n",
    "        i=0\n",
    "        for i in [0,1,2,3,4]: #this is a loop for creating the rows\n",
    "            r1[i] = int(input())\n",
    "            i = i + 1\n",
    "        print('Please Enter the values for the second row')\n",
    "        i=0\n",
    "        for i in [0,1,2,3,4]: #this is a loop for creating the rows\n",
    "            r2[i] = int(input())\n",
    "            i = i + 1\n",
    "        print('Please Enter the values for the third row')\n",
    "        i=0\n",
    "        for i in [0,1,2,3,4]: #this is a loop for creating the rows\n",
    "            r3[i] = int(input())\n",
    "            i = i + 1\n",
    "        print('Please Enter the values for the fourth row')\n",
    "        i=0\n",
    "        for i in [0,1,2,3,4]: #this is a loop for creating the rows\n",
    "            r4[i] = int(input())\n",
    "            i = i + 1\n",
    "        df1 = pd.DataFrame([r1,r2,r3,r4] , columns = x)\n",
    "    elif(data == 3):\n",
    "        file = input('Enter The File Name')\n",
    "        x = pd.read_csv(file)\n",
    "        df1 = pd.DataFrame(x)\n",
    "    else:\n",
    "        print('DataFrame Creation Failed Please Enter the values between 1 and 3 and try again')\n",
    "    return df1"
   ]
  },
  {
   "cell_type": "code",
   "execution_count": 4,
   "id": "b74f45a2",
   "metadata": {},
   "outputs": [],
   "source": [
    "def plotter(plot): #this functions checks the kind of plot that the user is working with for plotting the whole data\n",
    "    if(plot == 1):\n",
    "        finalplot = df1.iplot(kind='scatter')\n",
    "    elif(plot == 2):\n",
    "        finalplot = df1.iplot(kind='scatter',mode='markers' ,symbol='x',colorscale='paired')\n",
    "    elif(plot == 3):\n",
    "        finalplot = df1.iplot(kind='bar')\n",
    "    elif(plot == 4):\n",
    "        finalplot = df1.iplot(kind='hist')\n",
    "    elif(plot == 5):\n",
    "        finalplot = df1.iplot(kind='box')\n",
    "    elif(plot == 6):\n",
    "        finalplot = df1.iplot(kind='surface')\n",
    "    else:\n",
    "        finalplot = print('Select only between 1 to 7')\n",
    "    return finalplot"
   ]
  },
  {
   "cell_type": "code",
   "execution_count": 5,
   "id": "e748de5b",
   "metadata": {},
   "outputs": [],
   "source": [
    "def plotter2(plot):# this is a function for defining the data to plotted\n",
    "    col = input('Enter the number of columns you want to plot by selecting only 1 , 2 or 3')\n",
    "    col = int(col)\n",
    "    if(col==1): #this is used to plot one column argumne only\n",
    "        colm = input('Enter the column you want to plot by selecting any column from dataframe head')\n",
    "        if(plot==1):\n",
    "            finalplot = df1[colm].iplot(kind='scatter')\n",
    "        elif(plot==2):\n",
    "            finalplot = df1[colm].iplot(kind='scatter' , mode='markers' , symbol='x' ,colorscale='paired')\n",
    "        elif(plot==3):\n",
    "            finalplot = df1[colm].iplot(kind='bar')\n",
    "        elif(plot==4):\n",
    "            finalplot = df1[colm].iplot(kind='hist')\n",
    "        elif(plot==5):\n",
    "            finalplot = df1[colm].iplot(kind='box')\n",
    "        elif(plot==6 or plot==7):\n",
    "            finalplot = print('Bubble plot and surface plot require more than one column arguments')\n",
    "        else:\n",
    "            finalplot = print('Select only between 1 to 7')\n",
    "    elif(col==2):#this is used to plot two columns in in the selected data\n",
    "        print('Enter the columns you want to plot by selecting from dataframe head')\n",
    "        x = input('First column')\n",
    "        y = input('Second column')\n",
    "        if(plot==1):\n",
    "            finalplot = df1[[x,y]].iplot(kind='scatter')\n",
    "        elif(plot==2):\n",
    "            finalplot = df1[[x,y]].iplot(kind='scatter' , mode='markers' , symbol='x' ,colorscale='paired')\n",
    "        elif(plot==3):\n",
    "            finalplot = df1[[x,y]].iplot(kind='bar')\n",
    "        elif(plot==4):\n",
    "            finalplot = df1[[x,y]].iplot(kind='hist')\n",
    "        elif(plot==5):\n",
    "            finalplot = df1[[x,y]].iplot(kind='box')\n",
    "        elif(plot==6):\n",
    "            finalplot = df1[[x,y]].iplot(kind='surface')\n",
    "        elif(plot==7):\n",
    "            size = input('Please enter the size column for bubble plot')\n",
    "            finalplot = df1.iplot(kind='bubble' , x=x,y=y,size=size)\n",
    "        else:\n",
    "            finalplot = print('Select only between 1 to 7')\n",
    "    elif(col==3): #this is used to plot three columns in the selected data\n",
    "        print('Enter the columns you want to plot')\n",
    "        x=input('First column')\n",
    "        y=input('Second column')\n",
    "        z=input('Third column')\n",
    "        if(plot==1):\n",
    "            finalplot = df1[[x,y,z]].iplot(kind='scatter')\n",
    "        elif(plot==2):\n",
    "            finalplot = df1[[x,y,z]].iplot(kind='scatter' , mode='markers' , symbol='x' ,colorscale='paired')\n",
    "        elif(plot==3):\n",
    "            finalplot = df1[[x,y,z]].iplot(kind='bar')\n",
    "        elif(plot==4):\n",
    "            finalplot = df1[[x,y,z]].iplot(kind='hist')\n",
    "        elif(plot==5):\n",
    "            finalplot = df1[[x,y,z]].iplot(kind='box')\n",
    "        elif(plot==6):\n",
    "            finalplot = df1[[x,y,z]].iplot(kind='surface')\n",
    "        elif(plot==7):\n",
    "            size = input('Please enter the size column for bubble plot')\n",
    "            finalplot = df1.iplot(kind='bubble' , x=x,y=y,z=z,size=size )\n",
    "        else:\n",
    "            finalplot = print('Select only between 1 to 7')\n",
    "    else:\n",
    "        finalplot = print('Please enter only 1 , 2 or 3')\n",
    "    return finalplot"
   ]
  },
  {
   "cell_type": "code",
   "execution_count": null,
   "id": "cf25cf61",
   "metadata": {},
   "outputs": [],
   "source": []
  },
  {
   "cell_type": "code",
   "execution_count": 6,
   "id": "082d2373",
   "metadata": {},
   "outputs": [],
   "source": [
    "def main(cat): # this fuction is used to define the type of plot that the user wants\n",
    "    if(cat == 1):\n",
    "        print('Select the type of plot you need to plot by writing 1 to 6')\n",
    "        print('1.Line plot')\n",
    "        print('2.Scatter plot')\n",
    "        print('3.Bar plot')\n",
    "        print('4.Histogram')\n",
    "        print('5.Box plot')\n",
    "        print('6.Surface plot')\n",
    "        plot = int(input())\n",
    "        output = plotter(plot)\n",
    "    elif(cat == 2):\n",
    "        print('Select the type of plot you need to plot by writing 1 to 7')\n",
    "        print('1.Line plot')\n",
    "        print('2.Scatter plot')\n",
    "        print('3.Bar plot')\n",
    "        print('4.Histogram')\n",
    "        print('5.Box plot')\n",
    "        print('6.Surface plot')\n",
    "        print('7.Bubble plot')\n",
    "        plot = int(input())\n",
    "        output = plotter2(plot)\n",
    "    else:\n",
    "        print('Please enter 1 or 2 and try again')     "
   ]
  },
  {
   "cell_type": "code",
   "execution_count": 7,
   "id": "e2ecf9be",
   "metadata": {},
   "outputs": [
    {
     "name": "stdout",
     "output_type": "stream",
     "text": [
      "Select the type of data you need to plot(By selecting 1 or 2 or 3)\n",
      "1. Random data woth 100 rows and 5 columns\n",
      "2. Customized dataframe with 5 columns and 4 rows\n",
      "3. Upload the csv/json /txt file\n",
      "1\n"
     ]
    }
   ],
   "source": [
    "print('Select the type of data you need to plot(By selecting 1 or 2 or 3)') #this is defining the interface that the user is interacting with\n",
    "print('1. Random data woth 100 rows and 5 columns') #this is defining the interface that the user is interacting with\n",
    "print('2. Customized dataframe with 5 columns and 4 rows') #this is defining the interface that the user is interacting with\n",
    "print('3. Upload the csv/json /txt file') #this is defining the interface that the user is interacting with\n",
    "data = int(input())#this is defining the interface that the user is interacting with\n",
    "df1 = createdata(data)"
   ]
  },
  {
   "cell_type": "code",
   "execution_count": 8,
   "id": "92189a0a",
   "metadata": {},
   "outputs": [
    {
     "name": "stdout",
     "output_type": "stream",
     "text": [
      "Your DataFrame is given below check columns to plot using cufflinks\n"
     ]
    },
    {
     "data": {
      "text/html": [
       "<div>\n",
       "<style scoped>\n",
       "    .dataframe tbody tr th:only-of-type {\n",
       "        vertical-align: middle;\n",
       "    }\n",
       "\n",
       "    .dataframe tbody tr th {\n",
       "        vertical-align: top;\n",
       "    }\n",
       "\n",
       "    .dataframe thead th {\n",
       "        text-align: right;\n",
       "    }\n",
       "</style>\n",
       "<table border=\"1\" class=\"dataframe\">\n",
       "  <thead>\n",
       "    <tr style=\"text-align: right;\">\n",
       "      <th></th>\n",
       "      <th>A</th>\n",
       "      <th>B</th>\n",
       "      <th>C</th>\n",
       "      <th>D</th>\n",
       "      <th>E</th>\n",
       "    </tr>\n",
       "  </thead>\n",
       "  <tbody>\n",
       "    <tr>\n",
       "      <th>0</th>\n",
       "      <td>0.310654</td>\n",
       "      <td>0.414620</td>\n",
       "      <td>0.010114</td>\n",
       "      <td>0.069595</td>\n",
       "      <td>0.738406</td>\n",
       "    </tr>\n",
       "    <tr>\n",
       "      <th>1</th>\n",
       "      <td>0.293467</td>\n",
       "      <td>0.715140</td>\n",
       "      <td>0.042485</td>\n",
       "      <td>0.249810</td>\n",
       "      <td>0.226248</td>\n",
       "    </tr>\n",
       "    <tr>\n",
       "      <th>2</th>\n",
       "      <td>0.723104</td>\n",
       "      <td>0.531611</td>\n",
       "      <td>0.622327</td>\n",
       "      <td>0.260120</td>\n",
       "      <td>0.294472</td>\n",
       "    </tr>\n",
       "    <tr>\n",
       "      <th>3</th>\n",
       "      <td>0.396588</td>\n",
       "      <td>0.647891</td>\n",
       "      <td>0.545845</td>\n",
       "      <td>0.807567</td>\n",
       "      <td>0.625759</td>\n",
       "    </tr>\n",
       "    <tr>\n",
       "      <th>4</th>\n",
       "      <td>0.742378</td>\n",
       "      <td>0.757229</td>\n",
       "      <td>0.477586</td>\n",
       "      <td>0.962877</td>\n",
       "      <td>0.186453</td>\n",
       "    </tr>\n",
       "  </tbody>\n",
       "</table>\n",
       "</div>"
      ],
      "text/plain": [
       "          A         B         C         D         E\n",
       "0  0.310654  0.414620  0.010114  0.069595  0.738406\n",
       "1  0.293467  0.715140  0.042485  0.249810  0.226248\n",
       "2  0.723104  0.531611  0.622327  0.260120  0.294472\n",
       "3  0.396588  0.647891  0.545845  0.807567  0.625759\n",
       "4  0.742378  0.757229  0.477586  0.962877  0.186453"
      ]
     },
     "execution_count": 8,
     "metadata": {},
     "output_type": "execute_result"
    }
   ],
   "source": [
    "print('Your DataFrame is given below check columns to plot using cufflinks')\n",
    "df1.head()"
   ]
  },
  {
   "cell_type": "code",
   "execution_count": 9,
   "id": "12c11254",
   "metadata": {},
   "outputs": [
    {
     "name": "stdout",
     "output_type": "stream",
     "text": [
      "what kind of plot do you need, the complete data plot or columns plot\n",
      "Press 1 for a full data plot or 2 for a specified columns plot1\n"
     ]
    }
   ],
   "source": [
    "print('what kind of plot do you need, the complete data plot or columns plot')\n",
    "cat = input('Press 1 for a full data plot or 2 for a specified columns plot') #Cat in denoting category\n",
    "cat = int(cat)"
   ]
  },
  {
   "cell_type": "code",
   "execution_count": 10,
   "id": "8a540008",
   "metadata": {},
   "outputs": [
    {
     "name": "stdout",
     "output_type": "stream",
     "text": [
      "Select the type of plot you need to plot by writing 1 to 6\n",
      "1.Line plot\n",
      "2.Scatter plot\n",
      "3.Bar plot\n",
      "4.Histogram\n",
      "5.Box plot\n",
      "6.Surface plot\n",
      "2\n"
     ]
    },
    {
     "data": {
      "application/vnd.plotly.v1+json": {
       "config": {
        "linkText": "Export to plot.ly",
        "plotlyServerURL": "https://plot.ly",
        "showLink": true
       },
       "data": [
        {
         "line": {
          "color": "rgba(166, 206, 227, 1.0)",
          "dash": "solid",
          "shape": "linear",
          "width": 1.3
         },
         "marker": {
          "size": 12,
          "symbol": "x"
         },
         "mode": "markers",
         "name": "A",
         "text": "",
         "type": "scatter",
         "x": [
          0,
          1,
          2,
          3,
          4,
          5,
          6,
          7,
          8,
          9,
          10,
          11,
          12,
          13,
          14,
          15,
          16,
          17,
          18,
          19,
          20,
          21,
          22,
          23,
          24,
          25,
          26,
          27,
          28,
          29,
          30,
          31,
          32,
          33,
          34,
          35,
          36,
          37,
          38,
          39,
          40,
          41,
          42,
          43,
          44,
          45,
          46,
          47,
          48,
          49,
          50,
          51,
          52,
          53,
          54,
          55,
          56,
          57,
          58,
          59,
          60,
          61,
          62,
          63,
          64,
          65,
          66,
          67,
          68,
          69,
          70,
          71,
          72,
          73,
          74,
          75,
          76,
          77,
          78,
          79,
          80,
          81,
          82,
          83,
          84,
          85,
          86,
          87,
          88,
          89,
          90,
          91,
          92,
          93,
          94,
          95,
          96,
          97,
          98,
          99
         ],
         "y": [
          0.3106542460624955,
          0.29346710031161394,
          0.7231043230296923,
          0.39658846214753174,
          0.7423775871688567,
          0.5464079289512852,
          0.5328891865142689,
          0.3287721120183329,
          0.0578991690278563,
          0.858283499155037,
          0.3381737375867965,
          0.16134069460227463,
          0.7436800901971576,
          0.977053213101895,
          0.8319373559752387,
          0.024841494599797342,
          0.7544751945795396,
          0.428395918908966,
          0.7771511153615936,
          0.5577268075321163,
          0.27524866600960973,
          0.372536691823515,
          0.6717691506629713,
          0.9447543668901552,
          0.5976656573271834,
          0.4941096437689243,
          0.8564390779525011,
          0.9687638834740613,
          0.050296582943582635,
          0.11247885396087287,
          0.15420680500442352,
          0.6199307999569463,
          0.9875794330688588,
          0.0891721996406466,
          0.10574886380209336,
          0.8161100372726378,
          0.5205059106729453,
          0.20329495755727667,
          0.26006707028912546,
          0.8530975960114532,
          0.1589300486535632,
          0.7758926639302267,
          0.122398368486204,
          0.7421761160218887,
          0.7937560625745556,
          0.2689555097511107,
          0.7275376641008379,
          0.9329806411153132,
          0.5873764575725199,
          0.7430702169844352,
          0.32984014593882416,
          0.7931350001543415,
          0.6071549482060972,
          0.43774183309368464,
          0.07394560209199241,
          0.8367136147177707,
          0.47999346492133443,
          0.7527421526843393,
          0.7635846565201664,
          0.5814718174103224,
          0.07678958413642833,
          0.3309435802881675,
          0.04282258336794953,
          0.4793038254507124,
          0.3065954270682918,
          0.9369013939470802,
          0.870291971066488,
          0.6526945070710386,
          0.022951203467607373,
          0.9411153058125732,
          0.00038221215691580657,
          0.4972133340852971,
          0.6622985318718314,
          0.31864139395205193,
          0.1476106834191021,
          0.7514732377974899,
          0.5416120216808272,
          0.2886921619687348,
          0.0737897950063029,
          0.5623775521351971,
          0.8331813585855045,
          0.5733012828909256,
          0.2137203890583954,
          0.716725952884395,
          0.526807022155595,
          0.8194964234030432,
          0.07218497471577323,
          0.09042552392363212,
          0.1563738915442362,
          0.02693931307491404,
          0.6712518076518812,
          0.23521310706338006,
          0.36990520306828134,
          0.6481771438691382,
          0.5856098413579672,
          0.6206378874379441,
          0.04109912691178119,
          0.6639529554218169,
          0.5300297428111527,
          0.49904590617943445
         ]
        },
        {
         "line": {
          "color": "rgba(31, 120, 180, 1.0)",
          "dash": "solid",
          "shape": "linear",
          "width": 1.3
         },
         "marker": {
          "size": 12,
          "symbol": "x"
         },
         "mode": "markers",
         "name": "B",
         "text": "",
         "type": "scatter",
         "x": [
          0,
          1,
          2,
          3,
          4,
          5,
          6,
          7,
          8,
          9,
          10,
          11,
          12,
          13,
          14,
          15,
          16,
          17,
          18,
          19,
          20,
          21,
          22,
          23,
          24,
          25,
          26,
          27,
          28,
          29,
          30,
          31,
          32,
          33,
          34,
          35,
          36,
          37,
          38,
          39,
          40,
          41,
          42,
          43,
          44,
          45,
          46,
          47,
          48,
          49,
          50,
          51,
          52,
          53,
          54,
          55,
          56,
          57,
          58,
          59,
          60,
          61,
          62,
          63,
          64,
          65,
          66,
          67,
          68,
          69,
          70,
          71,
          72,
          73,
          74,
          75,
          76,
          77,
          78,
          79,
          80,
          81,
          82,
          83,
          84,
          85,
          86,
          87,
          88,
          89,
          90,
          91,
          92,
          93,
          94,
          95,
          96,
          97,
          98,
          99
         ],
         "y": [
          0.41461963134090973,
          0.7151395152641458,
          0.5316109753310199,
          0.647890699097722,
          0.757228808296152,
          0.4057507445277373,
          0.595039068158026,
          0.6018051121552461,
          0.8167319522556983,
          0.35312911867026153,
          0.07619873587598425,
          0.7900507877351786,
          0.65669592645885,
          0.04529240555627145,
          0.60133969992106,
          0.7848909990382578,
          0.04673837930881364,
          0.17313784625903672,
          0.2272631318334416,
          0.3010333917123752,
          0.3115468100469886,
          0.8560215601797698,
          0.277315037543981,
          0.5715843321221147,
          0.4004081817073537,
          0.9712044120972443,
          0.8125539822496088,
          0.348303685993114,
          0.2738707785839729,
          0.7991397350839462,
          0.04447290044381469,
          0.6882060345611192,
          0.6787744264447974,
          0.42893457863971096,
          0.11437512917141068,
          0.9059991173691426,
          0.6734339377890483,
          0.21731311561499989,
          0.767477778741575,
          0.5565804838289081,
          0.9078784452080095,
          0.7833223771598676,
          0.6984253644341087,
          0.938501147017935,
          0.9762921640378553,
          0.13716957760179804,
          0.3496416077941704,
          0.717721596230688,
          0.5862529913667864,
          0.6407449153362568,
          0.8271148840572107,
          0.8779216463065943,
          0.5203574227239444,
          0.46641059155552966,
          0.741012542534123,
          0.24591633263948642,
          0.03882212672445551,
          0.5369989287698265,
          0.23006821346316575,
          0.42975199457484714,
          0.7498667009214861,
          0.745673856138273,
          0.8550627894800623,
          0.21419216166495936,
          0.8927015210809975,
          0.44947920656108065,
          0.010909135924916824,
          0.9688486592188212,
          0.5664766696163992,
          0.627296128420602,
          0.7245569741636062,
          0.7512928614986293,
          0.17163288717643255,
          0.13624350624795378,
          0.7198191439181684,
          0.9095742292016334,
          0.5429827690670215,
          0.7157371778239005,
          0.365587073783766,
          0.4989337595600656,
          0.9267252409371343,
          0.5988544451020084,
          0.12067399672461399,
          0.3726565643380232,
          0.6762645260620834,
          0.17667062662619648,
          0.3097556023924998,
          0.07590433113043737,
          0.10705248917749066,
          0.2753108905531809,
          0.33421433906468057,
          0.11584443723307447,
          0.6779106056242006,
          0.5900451683036708,
          0.7608246378658249,
          0.012972406549615623,
          0.19016374606224706,
          0.4521089152745206,
          0.8966646255365539,
          0.9185529950611787
         ]
        },
        {
         "line": {
          "color": "rgba(178, 223, 138, 1.0)",
          "dash": "solid",
          "shape": "linear",
          "width": 1.3
         },
         "marker": {
          "size": 12,
          "symbol": "x"
         },
         "mode": "markers",
         "name": "C",
         "text": "",
         "type": "scatter",
         "x": [
          0,
          1,
          2,
          3,
          4,
          5,
          6,
          7,
          8,
          9,
          10,
          11,
          12,
          13,
          14,
          15,
          16,
          17,
          18,
          19,
          20,
          21,
          22,
          23,
          24,
          25,
          26,
          27,
          28,
          29,
          30,
          31,
          32,
          33,
          34,
          35,
          36,
          37,
          38,
          39,
          40,
          41,
          42,
          43,
          44,
          45,
          46,
          47,
          48,
          49,
          50,
          51,
          52,
          53,
          54,
          55,
          56,
          57,
          58,
          59,
          60,
          61,
          62,
          63,
          64,
          65,
          66,
          67,
          68,
          69,
          70,
          71,
          72,
          73,
          74,
          75,
          76,
          77,
          78,
          79,
          80,
          81,
          82,
          83,
          84,
          85,
          86,
          87,
          88,
          89,
          90,
          91,
          92,
          93,
          94,
          95,
          96,
          97,
          98,
          99
         ],
         "y": [
          0.010113626890133731,
          0.04248513081785932,
          0.6223271778286474,
          0.5458449639083248,
          0.4775863551720769,
          0.34655213911052163,
          0.29868806086219524,
          0.9391866946554152,
          0.10681737040541528,
          0.21148941172420066,
          0.9484239300187424,
          0.8202443347738649,
          0.6568178799691338,
          0.8123883931666389,
          0.11874710049612058,
          0.7792674367732999,
          0.29554753575107195,
          0.5577389029951937,
          0.3026679390435649,
          0.19846287141632335,
          0.5793975152062447,
          0.977252677804076,
          0.38654850387427875,
          0.15403302503647898,
          0.6847957801765918,
          0.6297390427140044,
          0.6731078026723577,
          0.06629700087498702,
          0.8498590126662062,
          0.16213980014244145,
          0.26418985360216074,
          0.46258578329898514,
          0.20574812935505504,
          0.9842283796513404,
          0.6652286335184264,
          0.1382596941341444,
          0.10474055929103732,
          0.7035264340399251,
          0.6405740571943307,
          0.2054933789109331,
          0.4351065154266359,
          0.9310073143325088,
          0.7062951336731409,
          0.9439730351755349,
          0.6716807516933235,
          0.3336837030437382,
          0.9228488203662931,
          0.2140273223334932,
          0.06457996446337322,
          0.3476854803454589,
          0.339743582731702,
          0.1347518292949762,
          0.428779130518563,
          0.8528277331220511,
          0.6154439645216269,
          0.06731994666057972,
          0.14628603690970365,
          0.9238401461149987,
          0.49726146261659343,
          0.17094379838273954,
          0.819102947166622,
          0.03680229969314386,
          0.2667534148838171,
          0.17923774575030416,
          0.3570826921080771,
          0.8754108155236019,
          0.19598188909914194,
          0.18970315634803991,
          0.294052202154955,
          0.5362847166272436,
          0.21336211755490953,
          0.0009254240776530587,
          0.2745695047551058,
          0.8199337309625214,
          0.34393812672138446,
          0.8090881970441298,
          0.7572201664243521,
          0.7003809964586762,
          0.6736005406635176,
          0.9736593646848456,
          0.18952767896512668,
          0.6152298150395479,
          0.7084705303403818,
          0.4451934136294482,
          0.6113589013950261,
          0.33192510930384644,
          0.08594818137975901,
          0.9397336402577053,
          0.5181070288929112,
          0.5666356837346506,
          0.2731271046373951,
          0.7594330008648583,
          0.8013690190492002,
          0.6651053788054734,
          0.47697299709073115,
          0.2296384206222456,
          0.2452198488629157,
          0.10220811471502822,
          0.9655140197823784,
          0.6531040612292832
         ]
        },
        {
         "line": {
          "color": "rgba(51, 160, 44, 1.0)",
          "dash": "solid",
          "shape": "linear",
          "width": 1.3
         },
         "marker": {
          "size": 12,
          "symbol": "x"
         },
         "mode": "markers",
         "name": "D",
         "text": "",
         "type": "scatter",
         "x": [
          0,
          1,
          2,
          3,
          4,
          5,
          6,
          7,
          8,
          9,
          10,
          11,
          12,
          13,
          14,
          15,
          16,
          17,
          18,
          19,
          20,
          21,
          22,
          23,
          24,
          25,
          26,
          27,
          28,
          29,
          30,
          31,
          32,
          33,
          34,
          35,
          36,
          37,
          38,
          39,
          40,
          41,
          42,
          43,
          44,
          45,
          46,
          47,
          48,
          49,
          50,
          51,
          52,
          53,
          54,
          55,
          56,
          57,
          58,
          59,
          60,
          61,
          62,
          63,
          64,
          65,
          66,
          67,
          68,
          69,
          70,
          71,
          72,
          73,
          74,
          75,
          76,
          77,
          78,
          79,
          80,
          81,
          82,
          83,
          84,
          85,
          86,
          87,
          88,
          89,
          90,
          91,
          92,
          93,
          94,
          95,
          96,
          97,
          98,
          99
         ],
         "y": [
          0.06959496314010671,
          0.24980981236150113,
          0.2601198421750226,
          0.8075666811343042,
          0.9628768849853115,
          0.6483089493104409,
          0.7144074277399034,
          0.819621362388686,
          0.13632606870288966,
          0.46923358489873823,
          0.4639845283628221,
          0.9083397726618903,
          0.8969675184579919,
          0.7359489932886176,
          0.45077079758097915,
          0.42282870126433625,
          0.42588968222910506,
          0.16183130763683906,
          0.36806686752122353,
          0.2146681732903407,
          0.2782806786844385,
          0.07952335832985147,
          0.0444764272035959,
          0.9173691420656338,
          0.6747540476103081,
          0.09830588063432932,
          0.6071372953443113,
          0.43053478398489575,
          0.8275715011437605,
          0.9292547282713198,
          0.34978564992215255,
          0.6434607295923763,
          0.8026475951842158,
          0.2916838157609758,
          0.04045380144708399,
          0.6937040835062461,
          0.062316202224796724,
          0.6604581205037767,
          0.543852650340635,
          0.42201533983008077,
          0.39818905551134043,
          0.6723492853163981,
          0.3765665957032671,
          0.9114890979561049,
          0.21598348747878726,
          0.16644339568644506,
          0.12010407810422519,
          0.7481861591640312,
          0.517965158355382,
          0.5507862648231046,
          0.6366488923667792,
          0.9824737579846592,
          0.9423136905831739,
          0.4593793295427764,
          0.6223236006296285,
          0.19229293033480177,
          0.9416917334040783,
          0.22479283753778134,
          0.5272471349178498,
          0.6704169197076432,
          0.540409617371273,
          0.8685489534600344,
          0.9063475559308702,
          0.4732415308799247,
          0.8920848111444052,
          0.5610287008136903,
          0.05996412135308016,
          0.09199604867599864,
          0.0468827616316414,
          0.10358163002292398,
          0.43087962782928024,
          0.649684119334663,
          0.9608108580098451,
          0.24228748112546028,
          0.1578481746958349,
          0.8386011176137697,
          0.31992132260407036,
          0.7334425678837463,
          0.8517774762802464,
          0.025517377712644507,
          0.3448841926862424,
          0.45331204569975037,
          0.9554437430781515,
          0.15729736848932152,
          0.6942895417659507,
          0.5736396898296477,
          0.1403906328977137,
          0.2457317226177259,
          0.7267902417410661,
          0.018159506486432275,
          0.9779324645612566,
          0.024188710205297448,
          0.8205565724159861,
          0.1701283069921231,
          0.45967888210749586,
          0.3944877810970925,
          0.7719517176668578,
          0.8146134772605241,
          0.3334314380057467,
          0.8927574508728551
         ]
        },
        {
         "line": {
          "color": "rgba(251, 154, 153, 1.0)",
          "dash": "solid",
          "shape": "linear",
          "width": 1.3
         },
         "marker": {
          "size": 12,
          "symbol": "x"
         },
         "mode": "markers",
         "name": "E",
         "text": "",
         "type": "scatter",
         "x": [
          0,
          1,
          2,
          3,
          4,
          5,
          6,
          7,
          8,
          9,
          10,
          11,
          12,
          13,
          14,
          15,
          16,
          17,
          18,
          19,
          20,
          21,
          22,
          23,
          24,
          25,
          26,
          27,
          28,
          29,
          30,
          31,
          32,
          33,
          34,
          35,
          36,
          37,
          38,
          39,
          40,
          41,
          42,
          43,
          44,
          45,
          46,
          47,
          48,
          49,
          50,
          51,
          52,
          53,
          54,
          55,
          56,
          57,
          58,
          59,
          60,
          61,
          62,
          63,
          64,
          65,
          66,
          67,
          68,
          69,
          70,
          71,
          72,
          73,
          74,
          75,
          76,
          77,
          78,
          79,
          80,
          81,
          82,
          83,
          84,
          85,
          86,
          87,
          88,
          89,
          90,
          91,
          92,
          93,
          94,
          95,
          96,
          97,
          98,
          99
         ],
         "y": [
          0.7384057589268781,
          0.2262477290405044,
          0.29447217321249075,
          0.6257587249465446,
          0.18645273181503397,
          0.8126659317299646,
          0.2803064394800796,
          0.18570491145609025,
          0.10686083981320083,
          0.6474894860953161,
          0.9247791433380812,
          0.4756992733022478,
          0.06306038611104292,
          0.47763764319122803,
          0.11588777462655597,
          0.2006582297686006,
          0.2661374608594397,
          0.5018590373054842,
          0.048718086470540434,
          0.36457532065870357,
          0.533509078421704,
          0.6827474055792115,
          0.7140218964018705,
          0.6094137477190502,
          0.6707445849132874,
          0.5529952306222559,
          0.604204193286623,
          0.6757990016723333,
          0.11218342338524123,
          0.20142513007179919,
          0.7853043293855131,
          0.21604343344681798,
          0.5783084402378834,
          0.8213251677174498,
          0.7229061073706854,
          0.173192317735125,
          0.9401241072740324,
          0.13246681173193542,
          0.9147376265891759,
          0.5327403174686554,
          0.30192158707106176,
          0.5973671079219817,
          0.6635144148175977,
          0.20548467480454247,
          0.9063358131654071,
          0.43275734923393383,
          0.4718981653742198,
          0.3939529705689784,
          0.35858193095702096,
          0.03325733369003514,
          0.6737058139532952,
          0.30729277824512247,
          0.7851208081580873,
          0.8160066651153769,
          0.665159861857537,
          0.5919348520784543,
          0.06452237268138605,
          0.8099560789101095,
          0.8002360571502758,
          0.6290361635029078,
          0.35923459751826103,
          0.7038851580985375,
          0.367236848289653,
          0.01441723592572386,
          0.49996227264679316,
          0.0809095169238897,
          0.41507655030465995,
          0.8553429064793943,
          0.36164726499956856,
          0.3649838672216874,
          0.7605800753792461,
          0.4494701489160493,
          0.8273488326878248,
          0.030325149600550216,
          0.00959124878842088,
          0.12138925315480198,
          0.6765200059538029,
          0.006065261699096047,
          0.05681519988096628,
          0.3312104776147411,
          0.2822788656918652,
          0.8118044603642652,
          0.10447999367407124,
          0.6742259647757138,
          0.15403953624298194,
          0.727337522519315,
          0.8258754266128312,
          0.004452054084095547,
          0.8520350673769759,
          0.42546540948416334,
          0.41456688786343,
          0.14290818588160337,
          0.590383084775788,
          0.21576223440315645,
          0.5650225362126773,
          0.172641048592038,
          0.44835062847466034,
          0.9918101734043376,
          0.084836226246639,
          0.9765345055896446
         ]
        }
       ],
       "layout": {
        "legend": {
         "bgcolor": "#F5F6F9",
         "font": {
          "color": "#4D5663"
         }
        },
        "paper_bgcolor": "#F5F6F9",
        "plot_bgcolor": "#F5F6F9",
        "template": {
         "data": {
          "bar": [
           {
            "error_x": {
             "color": "#2a3f5f"
            },
            "error_y": {
             "color": "#2a3f5f"
            },
            "marker": {
             "line": {
              "color": "#E5ECF6",
              "width": 0.5
             }
            },
            "type": "bar"
           }
          ],
          "barpolar": [
           {
            "marker": {
             "line": {
              "color": "#E5ECF6",
              "width": 0.5
             }
            },
            "type": "barpolar"
           }
          ],
          "carpet": [
           {
            "aaxis": {
             "endlinecolor": "#2a3f5f",
             "gridcolor": "white",
             "linecolor": "white",
             "minorgridcolor": "white",
             "startlinecolor": "#2a3f5f"
            },
            "baxis": {
             "endlinecolor": "#2a3f5f",
             "gridcolor": "white",
             "linecolor": "white",
             "minorgridcolor": "white",
             "startlinecolor": "#2a3f5f"
            },
            "type": "carpet"
           }
          ],
          "choropleth": [
           {
            "colorbar": {
             "outlinewidth": 0,
             "ticks": ""
            },
            "type": "choropleth"
           }
          ],
          "contour": [
           {
            "colorbar": {
             "outlinewidth": 0,
             "ticks": ""
            },
            "colorscale": [
             [
              0,
              "#0d0887"
             ],
             [
              0.1111111111111111,
              "#46039f"
             ],
             [
              0.2222222222222222,
              "#7201a8"
             ],
             [
              0.3333333333333333,
              "#9c179e"
             ],
             [
              0.4444444444444444,
              "#bd3786"
             ],
             [
              0.5555555555555556,
              "#d8576b"
             ],
             [
              0.6666666666666666,
              "#ed7953"
             ],
             [
              0.7777777777777778,
              "#fb9f3a"
             ],
             [
              0.8888888888888888,
              "#fdca26"
             ],
             [
              1,
              "#f0f921"
             ]
            ],
            "type": "contour"
           }
          ],
          "contourcarpet": [
           {
            "colorbar": {
             "outlinewidth": 0,
             "ticks": ""
            },
            "type": "contourcarpet"
           }
          ],
          "heatmap": [
           {
            "colorbar": {
             "outlinewidth": 0,
             "ticks": ""
            },
            "colorscale": [
             [
              0,
              "#0d0887"
             ],
             [
              0.1111111111111111,
              "#46039f"
             ],
             [
              0.2222222222222222,
              "#7201a8"
             ],
             [
              0.3333333333333333,
              "#9c179e"
             ],
             [
              0.4444444444444444,
              "#bd3786"
             ],
             [
              0.5555555555555556,
              "#d8576b"
             ],
             [
              0.6666666666666666,
              "#ed7953"
             ],
             [
              0.7777777777777778,
              "#fb9f3a"
             ],
             [
              0.8888888888888888,
              "#fdca26"
             ],
             [
              1,
              "#f0f921"
             ]
            ],
            "type": "heatmap"
           }
          ],
          "heatmapgl": [
           {
            "colorbar": {
             "outlinewidth": 0,
             "ticks": ""
            },
            "colorscale": [
             [
              0,
              "#0d0887"
             ],
             [
              0.1111111111111111,
              "#46039f"
             ],
             [
              0.2222222222222222,
              "#7201a8"
             ],
             [
              0.3333333333333333,
              "#9c179e"
             ],
             [
              0.4444444444444444,
              "#bd3786"
             ],
             [
              0.5555555555555556,
              "#d8576b"
             ],
             [
              0.6666666666666666,
              "#ed7953"
             ],
             [
              0.7777777777777778,
              "#fb9f3a"
             ],
             [
              0.8888888888888888,
              "#fdca26"
             ],
             [
              1,
              "#f0f921"
             ]
            ],
            "type": "heatmapgl"
           }
          ],
          "histogram": [
           {
            "marker": {
             "colorbar": {
              "outlinewidth": 0,
              "ticks": ""
             }
            },
            "type": "histogram"
           }
          ],
          "histogram2d": [
           {
            "colorbar": {
             "outlinewidth": 0,
             "ticks": ""
            },
            "colorscale": [
             [
              0,
              "#0d0887"
             ],
             [
              0.1111111111111111,
              "#46039f"
             ],
             [
              0.2222222222222222,
              "#7201a8"
             ],
             [
              0.3333333333333333,
              "#9c179e"
             ],
             [
              0.4444444444444444,
              "#bd3786"
             ],
             [
              0.5555555555555556,
              "#d8576b"
             ],
             [
              0.6666666666666666,
              "#ed7953"
             ],
             [
              0.7777777777777778,
              "#fb9f3a"
             ],
             [
              0.8888888888888888,
              "#fdca26"
             ],
             [
              1,
              "#f0f921"
             ]
            ],
            "type": "histogram2d"
           }
          ],
          "histogram2dcontour": [
           {
            "colorbar": {
             "outlinewidth": 0,
             "ticks": ""
            },
            "colorscale": [
             [
              0,
              "#0d0887"
             ],
             [
              0.1111111111111111,
              "#46039f"
             ],
             [
              0.2222222222222222,
              "#7201a8"
             ],
             [
              0.3333333333333333,
              "#9c179e"
             ],
             [
              0.4444444444444444,
              "#bd3786"
             ],
             [
              0.5555555555555556,
              "#d8576b"
             ],
             [
              0.6666666666666666,
              "#ed7953"
             ],
             [
              0.7777777777777778,
              "#fb9f3a"
             ],
             [
              0.8888888888888888,
              "#fdca26"
             ],
             [
              1,
              "#f0f921"
             ]
            ],
            "type": "histogram2dcontour"
           }
          ],
          "mesh3d": [
           {
            "colorbar": {
             "outlinewidth": 0,
             "ticks": ""
            },
            "type": "mesh3d"
           }
          ],
          "parcoords": [
           {
            "line": {
             "colorbar": {
              "outlinewidth": 0,
              "ticks": ""
             }
            },
            "type": "parcoords"
           }
          ],
          "pie": [
           {
            "automargin": true,
            "type": "pie"
           }
          ],
          "scatter": [
           {
            "marker": {
             "colorbar": {
              "outlinewidth": 0,
              "ticks": ""
             }
            },
            "type": "scatter"
           }
          ],
          "scatter3d": [
           {
            "line": {
             "colorbar": {
              "outlinewidth": 0,
              "ticks": ""
             }
            },
            "marker": {
             "colorbar": {
              "outlinewidth": 0,
              "ticks": ""
             }
            },
            "type": "scatter3d"
           }
          ],
          "scattercarpet": [
           {
            "marker": {
             "colorbar": {
              "outlinewidth": 0,
              "ticks": ""
             }
            },
            "type": "scattercarpet"
           }
          ],
          "scattergeo": [
           {
            "marker": {
             "colorbar": {
              "outlinewidth": 0,
              "ticks": ""
             }
            },
            "type": "scattergeo"
           }
          ],
          "scattergl": [
           {
            "marker": {
             "colorbar": {
              "outlinewidth": 0,
              "ticks": ""
             }
            },
            "type": "scattergl"
           }
          ],
          "scattermapbox": [
           {
            "marker": {
             "colorbar": {
              "outlinewidth": 0,
              "ticks": ""
             }
            },
            "type": "scattermapbox"
           }
          ],
          "scatterpolar": [
           {
            "marker": {
             "colorbar": {
              "outlinewidth": 0,
              "ticks": ""
             }
            },
            "type": "scatterpolar"
           }
          ],
          "scatterpolargl": [
           {
            "marker": {
             "colorbar": {
              "outlinewidth": 0,
              "ticks": ""
             }
            },
            "type": "scatterpolargl"
           }
          ],
          "scatterternary": [
           {
            "marker": {
             "colorbar": {
              "outlinewidth": 0,
              "ticks": ""
             }
            },
            "type": "scatterternary"
           }
          ],
          "surface": [
           {
            "colorbar": {
             "outlinewidth": 0,
             "ticks": ""
            },
            "colorscale": [
             [
              0,
              "#0d0887"
             ],
             [
              0.1111111111111111,
              "#46039f"
             ],
             [
              0.2222222222222222,
              "#7201a8"
             ],
             [
              0.3333333333333333,
              "#9c179e"
             ],
             [
              0.4444444444444444,
              "#bd3786"
             ],
             [
              0.5555555555555556,
              "#d8576b"
             ],
             [
              0.6666666666666666,
              "#ed7953"
             ],
             [
              0.7777777777777778,
              "#fb9f3a"
             ],
             [
              0.8888888888888888,
              "#fdca26"
             ],
             [
              1,
              "#f0f921"
             ]
            ],
            "type": "surface"
           }
          ],
          "table": [
           {
            "cells": {
             "fill": {
              "color": "#EBF0F8"
             },
             "line": {
              "color": "white"
             }
            },
            "header": {
             "fill": {
              "color": "#C8D4E3"
             },
             "line": {
              "color": "white"
             }
            },
            "type": "table"
           }
          ]
         },
         "layout": {
          "annotationdefaults": {
           "arrowcolor": "#2a3f5f",
           "arrowhead": 0,
           "arrowwidth": 1
          },
          "autotypenumbers": "strict",
          "coloraxis": {
           "colorbar": {
            "outlinewidth": 0,
            "ticks": ""
           }
          },
          "colorscale": {
           "diverging": [
            [
             0,
             "#8e0152"
            ],
            [
             0.1,
             "#c51b7d"
            ],
            [
             0.2,
             "#de77ae"
            ],
            [
             0.3,
             "#f1b6da"
            ],
            [
             0.4,
             "#fde0ef"
            ],
            [
             0.5,
             "#f7f7f7"
            ],
            [
             0.6,
             "#e6f5d0"
            ],
            [
             0.7,
             "#b8e186"
            ],
            [
             0.8,
             "#7fbc41"
            ],
            [
             0.9,
             "#4d9221"
            ],
            [
             1,
             "#276419"
            ]
           ],
           "sequential": [
            [
             0,
             "#0d0887"
            ],
            [
             0.1111111111111111,
             "#46039f"
            ],
            [
             0.2222222222222222,
             "#7201a8"
            ],
            [
             0.3333333333333333,
             "#9c179e"
            ],
            [
             0.4444444444444444,
             "#bd3786"
            ],
            [
             0.5555555555555556,
             "#d8576b"
            ],
            [
             0.6666666666666666,
             "#ed7953"
            ],
            [
             0.7777777777777778,
             "#fb9f3a"
            ],
            [
             0.8888888888888888,
             "#fdca26"
            ],
            [
             1,
             "#f0f921"
            ]
           ],
           "sequentialminus": [
            [
             0,
             "#0d0887"
            ],
            [
             0.1111111111111111,
             "#46039f"
            ],
            [
             0.2222222222222222,
             "#7201a8"
            ],
            [
             0.3333333333333333,
             "#9c179e"
            ],
            [
             0.4444444444444444,
             "#bd3786"
            ],
            [
             0.5555555555555556,
             "#d8576b"
            ],
            [
             0.6666666666666666,
             "#ed7953"
            ],
            [
             0.7777777777777778,
             "#fb9f3a"
            ],
            [
             0.8888888888888888,
             "#fdca26"
            ],
            [
             1,
             "#f0f921"
            ]
           ]
          },
          "colorway": [
           "#636efa",
           "#EF553B",
           "#00cc96",
           "#ab63fa",
           "#FFA15A",
           "#19d3f3",
           "#FF6692",
           "#B6E880",
           "#FF97FF",
           "#FECB52"
          ],
          "font": {
           "color": "#2a3f5f"
          },
          "geo": {
           "bgcolor": "white",
           "lakecolor": "white",
           "landcolor": "#E5ECF6",
           "showlakes": true,
           "showland": true,
           "subunitcolor": "white"
          },
          "hoverlabel": {
           "align": "left"
          },
          "hovermode": "closest",
          "mapbox": {
           "style": "light"
          },
          "paper_bgcolor": "white",
          "plot_bgcolor": "#E5ECF6",
          "polar": {
           "angularaxis": {
            "gridcolor": "white",
            "linecolor": "white",
            "ticks": ""
           },
           "bgcolor": "#E5ECF6",
           "radialaxis": {
            "gridcolor": "white",
            "linecolor": "white",
            "ticks": ""
           }
          },
          "scene": {
           "xaxis": {
            "backgroundcolor": "#E5ECF6",
            "gridcolor": "white",
            "gridwidth": 2,
            "linecolor": "white",
            "showbackground": true,
            "ticks": "",
            "zerolinecolor": "white"
           },
           "yaxis": {
            "backgroundcolor": "#E5ECF6",
            "gridcolor": "white",
            "gridwidth": 2,
            "linecolor": "white",
            "showbackground": true,
            "ticks": "",
            "zerolinecolor": "white"
           },
           "zaxis": {
            "backgroundcolor": "#E5ECF6",
            "gridcolor": "white",
            "gridwidth": 2,
            "linecolor": "white",
            "showbackground": true,
            "ticks": "",
            "zerolinecolor": "white"
           }
          },
          "shapedefaults": {
           "line": {
            "color": "#2a3f5f"
           }
          },
          "ternary": {
           "aaxis": {
            "gridcolor": "white",
            "linecolor": "white",
            "ticks": ""
           },
           "baxis": {
            "gridcolor": "white",
            "linecolor": "white",
            "ticks": ""
           },
           "bgcolor": "#E5ECF6",
           "caxis": {
            "gridcolor": "white",
            "linecolor": "white",
            "ticks": ""
           }
          },
          "title": {
           "x": 0.05
          },
          "xaxis": {
           "automargin": true,
           "gridcolor": "white",
           "linecolor": "white",
           "ticks": "",
           "title": {
            "standoff": 15
           },
           "zerolinecolor": "white",
           "zerolinewidth": 2
          },
          "yaxis": {
           "automargin": true,
           "gridcolor": "white",
           "linecolor": "white",
           "ticks": "",
           "title": {
            "standoff": 15
           },
           "zerolinecolor": "white",
           "zerolinewidth": 2
          }
         }
        },
        "title": {
         "font": {
          "color": "#4D5663"
         }
        },
        "xaxis": {
         "gridcolor": "#E1E5ED",
         "showgrid": true,
         "tickfont": {
          "color": "#4D5663"
         },
         "title": {
          "font": {
           "color": "#4D5663"
          },
          "text": ""
         },
         "zerolinecolor": "#E1E5ED"
        },
        "yaxis": {
         "gridcolor": "#E1E5ED",
         "showgrid": true,
         "tickfont": {
          "color": "#4D5663"
         },
         "title": {
          "font": {
           "color": "#4D5663"
          },
          "text": ""
         },
         "zerolinecolor": "#E1E5ED"
        }
       }
      },
      "text/html": [
       "<div>                            <div id=\"0ddf5954-b0ce-4b7b-9ad7-2412b73d2b2d\" class=\"plotly-graph-div\" style=\"height:525px; width:100%;\"></div>            <script type=\"text/javascript\">                require([\"plotly\"], function(Plotly) {                    window.PLOTLYENV=window.PLOTLYENV || {};\n",
       "                    window.PLOTLYENV.BASE_URL='https://plot.ly';                                    if (document.getElementById(\"0ddf5954-b0ce-4b7b-9ad7-2412b73d2b2d\")) {                    Plotly.newPlot(                        \"0ddf5954-b0ce-4b7b-9ad7-2412b73d2b2d\",                        [{\"line\": {\"color\": \"rgba(166, 206, 227, 1.0)\", \"dash\": \"solid\", \"shape\": \"linear\", \"width\": 1.3}, \"marker\": {\"size\": 12, \"symbol\": \"x\"}, \"mode\": \"markers\", \"name\": \"A\", \"text\": \"\", \"type\": \"scatter\", \"x\": [0, 1, 2, 3, 4, 5, 6, 7, 8, 9, 10, 11, 12, 13, 14, 15, 16, 17, 18, 19, 20, 21, 22, 23, 24, 25, 26, 27, 28, 29, 30, 31, 32, 33, 34, 35, 36, 37, 38, 39, 40, 41, 42, 43, 44, 45, 46, 47, 48, 49, 50, 51, 52, 53, 54, 55, 56, 57, 58, 59, 60, 61, 62, 63, 64, 65, 66, 67, 68, 69, 70, 71, 72, 73, 74, 75, 76, 77, 78, 79, 80, 81, 82, 83, 84, 85, 86, 87, 88, 89, 90, 91, 92, 93, 94, 95, 96, 97, 98, 99], \"y\": [0.3106542460624955, 0.29346710031161394, 0.7231043230296923, 0.39658846214753174, 0.7423775871688567, 0.5464079289512852, 0.5328891865142689, 0.3287721120183329, 0.0578991690278563, 0.858283499155037, 0.3381737375867965, 0.16134069460227463, 0.7436800901971576, 0.977053213101895, 0.8319373559752387, 0.024841494599797342, 0.7544751945795396, 0.428395918908966, 0.7771511153615936, 0.5577268075321163, 0.27524866600960973, 0.372536691823515, 0.6717691506629713, 0.9447543668901552, 0.5976656573271834, 0.4941096437689243, 0.8564390779525011, 0.9687638834740613, 0.050296582943582635, 0.11247885396087287, 0.15420680500442352, 0.6199307999569463, 0.9875794330688588, 0.0891721996406466, 0.10574886380209336, 0.8161100372726378, 0.5205059106729453, 0.20329495755727667, 0.26006707028912546, 0.8530975960114532, 0.1589300486535632, 0.7758926639302267, 0.122398368486204, 0.7421761160218887, 0.7937560625745556, 0.2689555097511107, 0.7275376641008379, 0.9329806411153132, 0.5873764575725199, 0.7430702169844352, 0.32984014593882416, 0.7931350001543415, 0.6071549482060972, 0.43774183309368464, 0.07394560209199241, 0.8367136147177707, 0.47999346492133443, 0.7527421526843393, 0.7635846565201664, 0.5814718174103224, 0.07678958413642833, 0.3309435802881675, 0.04282258336794953, 0.4793038254507124, 0.3065954270682918, 0.9369013939470802, 0.870291971066488, 0.6526945070710386, 0.022951203467607373, 0.9411153058125732, 0.00038221215691580657, 0.4972133340852971, 0.6622985318718314, 0.31864139395205193, 0.1476106834191021, 0.7514732377974899, 0.5416120216808272, 0.2886921619687348, 0.0737897950063029, 0.5623775521351971, 0.8331813585855045, 0.5733012828909256, 0.2137203890583954, 0.716725952884395, 0.526807022155595, 0.8194964234030432, 0.07218497471577323, 0.09042552392363212, 0.1563738915442362, 0.02693931307491404, 0.6712518076518812, 0.23521310706338006, 0.36990520306828134, 0.6481771438691382, 0.5856098413579672, 0.6206378874379441, 0.04109912691178119, 0.6639529554218169, 0.5300297428111527, 0.49904590617943445]}, {\"line\": {\"color\": \"rgba(31, 120, 180, 1.0)\", \"dash\": \"solid\", \"shape\": \"linear\", \"width\": 1.3}, \"marker\": {\"size\": 12, \"symbol\": \"x\"}, \"mode\": \"markers\", \"name\": \"B\", \"text\": \"\", \"type\": \"scatter\", \"x\": [0, 1, 2, 3, 4, 5, 6, 7, 8, 9, 10, 11, 12, 13, 14, 15, 16, 17, 18, 19, 20, 21, 22, 23, 24, 25, 26, 27, 28, 29, 30, 31, 32, 33, 34, 35, 36, 37, 38, 39, 40, 41, 42, 43, 44, 45, 46, 47, 48, 49, 50, 51, 52, 53, 54, 55, 56, 57, 58, 59, 60, 61, 62, 63, 64, 65, 66, 67, 68, 69, 70, 71, 72, 73, 74, 75, 76, 77, 78, 79, 80, 81, 82, 83, 84, 85, 86, 87, 88, 89, 90, 91, 92, 93, 94, 95, 96, 97, 98, 99], \"y\": [0.41461963134090973, 0.7151395152641458, 0.5316109753310199, 0.647890699097722, 0.757228808296152, 0.4057507445277373, 0.595039068158026, 0.6018051121552461, 0.8167319522556983, 0.35312911867026153, 0.07619873587598425, 0.7900507877351786, 0.65669592645885, 0.04529240555627145, 0.60133969992106, 0.7848909990382578, 0.04673837930881364, 0.17313784625903672, 0.2272631318334416, 0.3010333917123752, 0.3115468100469886, 0.8560215601797698, 0.277315037543981, 0.5715843321221147, 0.4004081817073537, 0.9712044120972443, 0.8125539822496088, 0.348303685993114, 0.2738707785839729, 0.7991397350839462, 0.04447290044381469, 0.6882060345611192, 0.6787744264447974, 0.42893457863971096, 0.11437512917141068, 0.9059991173691426, 0.6734339377890483, 0.21731311561499989, 0.767477778741575, 0.5565804838289081, 0.9078784452080095, 0.7833223771598676, 0.6984253644341087, 0.938501147017935, 0.9762921640378553, 0.13716957760179804, 0.3496416077941704, 0.717721596230688, 0.5862529913667864, 0.6407449153362568, 0.8271148840572107, 0.8779216463065943, 0.5203574227239444, 0.46641059155552966, 0.741012542534123, 0.24591633263948642, 0.03882212672445551, 0.5369989287698265, 0.23006821346316575, 0.42975199457484714, 0.7498667009214861, 0.745673856138273, 0.8550627894800623, 0.21419216166495936, 0.8927015210809975, 0.44947920656108065, 0.010909135924916824, 0.9688486592188212, 0.5664766696163992, 0.627296128420602, 0.7245569741636062, 0.7512928614986293, 0.17163288717643255, 0.13624350624795378, 0.7198191439181684, 0.9095742292016334, 0.5429827690670215, 0.7157371778239005, 0.365587073783766, 0.4989337595600656, 0.9267252409371343, 0.5988544451020084, 0.12067399672461399, 0.3726565643380232, 0.6762645260620834, 0.17667062662619648, 0.3097556023924998, 0.07590433113043737, 0.10705248917749066, 0.2753108905531809, 0.33421433906468057, 0.11584443723307447, 0.6779106056242006, 0.5900451683036708, 0.7608246378658249, 0.012972406549615623, 0.19016374606224706, 0.4521089152745206, 0.8966646255365539, 0.9185529950611787]}, {\"line\": {\"color\": \"rgba(178, 223, 138, 1.0)\", \"dash\": \"solid\", \"shape\": \"linear\", \"width\": 1.3}, \"marker\": {\"size\": 12, \"symbol\": \"x\"}, \"mode\": \"markers\", \"name\": \"C\", \"text\": \"\", \"type\": \"scatter\", \"x\": [0, 1, 2, 3, 4, 5, 6, 7, 8, 9, 10, 11, 12, 13, 14, 15, 16, 17, 18, 19, 20, 21, 22, 23, 24, 25, 26, 27, 28, 29, 30, 31, 32, 33, 34, 35, 36, 37, 38, 39, 40, 41, 42, 43, 44, 45, 46, 47, 48, 49, 50, 51, 52, 53, 54, 55, 56, 57, 58, 59, 60, 61, 62, 63, 64, 65, 66, 67, 68, 69, 70, 71, 72, 73, 74, 75, 76, 77, 78, 79, 80, 81, 82, 83, 84, 85, 86, 87, 88, 89, 90, 91, 92, 93, 94, 95, 96, 97, 98, 99], \"y\": [0.010113626890133731, 0.04248513081785932, 0.6223271778286474, 0.5458449639083248, 0.4775863551720769, 0.34655213911052163, 0.29868806086219524, 0.9391866946554152, 0.10681737040541528, 0.21148941172420066, 0.9484239300187424, 0.8202443347738649, 0.6568178799691338, 0.8123883931666389, 0.11874710049612058, 0.7792674367732999, 0.29554753575107195, 0.5577389029951937, 0.3026679390435649, 0.19846287141632335, 0.5793975152062447, 0.977252677804076, 0.38654850387427875, 0.15403302503647898, 0.6847957801765918, 0.6297390427140044, 0.6731078026723577, 0.06629700087498702, 0.8498590126662062, 0.16213980014244145, 0.26418985360216074, 0.46258578329898514, 0.20574812935505504, 0.9842283796513404, 0.6652286335184264, 0.1382596941341444, 0.10474055929103732, 0.7035264340399251, 0.6405740571943307, 0.2054933789109331, 0.4351065154266359, 0.9310073143325088, 0.7062951336731409, 0.9439730351755349, 0.6716807516933235, 0.3336837030437382, 0.9228488203662931, 0.2140273223334932, 0.06457996446337322, 0.3476854803454589, 0.339743582731702, 0.1347518292949762, 0.428779130518563, 0.8528277331220511, 0.6154439645216269, 0.06731994666057972, 0.14628603690970365, 0.9238401461149987, 0.49726146261659343, 0.17094379838273954, 0.819102947166622, 0.03680229969314386, 0.2667534148838171, 0.17923774575030416, 0.3570826921080771, 0.8754108155236019, 0.19598188909914194, 0.18970315634803991, 0.294052202154955, 0.5362847166272436, 0.21336211755490953, 0.0009254240776530587, 0.2745695047551058, 0.8199337309625214, 0.34393812672138446, 0.8090881970441298, 0.7572201664243521, 0.7003809964586762, 0.6736005406635176, 0.9736593646848456, 0.18952767896512668, 0.6152298150395479, 0.7084705303403818, 0.4451934136294482, 0.6113589013950261, 0.33192510930384644, 0.08594818137975901, 0.9397336402577053, 0.5181070288929112, 0.5666356837346506, 0.2731271046373951, 0.7594330008648583, 0.8013690190492002, 0.6651053788054734, 0.47697299709073115, 0.2296384206222456, 0.2452198488629157, 0.10220811471502822, 0.9655140197823784, 0.6531040612292832]}, {\"line\": {\"color\": \"rgba(51, 160, 44, 1.0)\", \"dash\": \"solid\", \"shape\": \"linear\", \"width\": 1.3}, \"marker\": {\"size\": 12, \"symbol\": \"x\"}, \"mode\": \"markers\", \"name\": \"D\", \"text\": \"\", \"type\": \"scatter\", \"x\": [0, 1, 2, 3, 4, 5, 6, 7, 8, 9, 10, 11, 12, 13, 14, 15, 16, 17, 18, 19, 20, 21, 22, 23, 24, 25, 26, 27, 28, 29, 30, 31, 32, 33, 34, 35, 36, 37, 38, 39, 40, 41, 42, 43, 44, 45, 46, 47, 48, 49, 50, 51, 52, 53, 54, 55, 56, 57, 58, 59, 60, 61, 62, 63, 64, 65, 66, 67, 68, 69, 70, 71, 72, 73, 74, 75, 76, 77, 78, 79, 80, 81, 82, 83, 84, 85, 86, 87, 88, 89, 90, 91, 92, 93, 94, 95, 96, 97, 98, 99], \"y\": [0.06959496314010671, 0.24980981236150113, 0.2601198421750226, 0.8075666811343042, 0.9628768849853115, 0.6483089493104409, 0.7144074277399034, 0.819621362388686, 0.13632606870288966, 0.46923358489873823, 0.4639845283628221, 0.9083397726618903, 0.8969675184579919, 0.7359489932886176, 0.45077079758097915, 0.42282870126433625, 0.42588968222910506, 0.16183130763683906, 0.36806686752122353, 0.2146681732903407, 0.2782806786844385, 0.07952335832985147, 0.0444764272035959, 0.9173691420656338, 0.6747540476103081, 0.09830588063432932, 0.6071372953443113, 0.43053478398489575, 0.8275715011437605, 0.9292547282713198, 0.34978564992215255, 0.6434607295923763, 0.8026475951842158, 0.2916838157609758, 0.04045380144708399, 0.6937040835062461, 0.062316202224796724, 0.6604581205037767, 0.543852650340635, 0.42201533983008077, 0.39818905551134043, 0.6723492853163981, 0.3765665957032671, 0.9114890979561049, 0.21598348747878726, 0.16644339568644506, 0.12010407810422519, 0.7481861591640312, 0.517965158355382, 0.5507862648231046, 0.6366488923667792, 0.9824737579846592, 0.9423136905831739, 0.4593793295427764, 0.6223236006296285, 0.19229293033480177, 0.9416917334040783, 0.22479283753778134, 0.5272471349178498, 0.6704169197076432, 0.540409617371273, 0.8685489534600344, 0.9063475559308702, 0.4732415308799247, 0.8920848111444052, 0.5610287008136903, 0.05996412135308016, 0.09199604867599864, 0.0468827616316414, 0.10358163002292398, 0.43087962782928024, 0.649684119334663, 0.9608108580098451, 0.24228748112546028, 0.1578481746958349, 0.8386011176137697, 0.31992132260407036, 0.7334425678837463, 0.8517774762802464, 0.025517377712644507, 0.3448841926862424, 0.45331204569975037, 0.9554437430781515, 0.15729736848932152, 0.6942895417659507, 0.5736396898296477, 0.1403906328977137, 0.2457317226177259, 0.7267902417410661, 0.018159506486432275, 0.9779324645612566, 0.024188710205297448, 0.8205565724159861, 0.1701283069921231, 0.45967888210749586, 0.3944877810970925, 0.7719517176668578, 0.8146134772605241, 0.3334314380057467, 0.8927574508728551]}, {\"line\": {\"color\": \"rgba(251, 154, 153, 1.0)\", \"dash\": \"solid\", \"shape\": \"linear\", \"width\": 1.3}, \"marker\": {\"size\": 12, \"symbol\": \"x\"}, \"mode\": \"markers\", \"name\": \"E\", \"text\": \"\", \"type\": \"scatter\", \"x\": [0, 1, 2, 3, 4, 5, 6, 7, 8, 9, 10, 11, 12, 13, 14, 15, 16, 17, 18, 19, 20, 21, 22, 23, 24, 25, 26, 27, 28, 29, 30, 31, 32, 33, 34, 35, 36, 37, 38, 39, 40, 41, 42, 43, 44, 45, 46, 47, 48, 49, 50, 51, 52, 53, 54, 55, 56, 57, 58, 59, 60, 61, 62, 63, 64, 65, 66, 67, 68, 69, 70, 71, 72, 73, 74, 75, 76, 77, 78, 79, 80, 81, 82, 83, 84, 85, 86, 87, 88, 89, 90, 91, 92, 93, 94, 95, 96, 97, 98, 99], \"y\": [0.7384057589268781, 0.2262477290405044, 0.29447217321249075, 0.6257587249465446, 0.18645273181503397, 0.8126659317299646, 0.2803064394800796, 0.18570491145609025, 0.10686083981320083, 0.6474894860953161, 0.9247791433380812, 0.4756992733022478, 0.06306038611104292, 0.47763764319122803, 0.11588777462655597, 0.2006582297686006, 0.2661374608594397, 0.5018590373054842, 0.048718086470540434, 0.36457532065870357, 0.533509078421704, 0.6827474055792115, 0.7140218964018705, 0.6094137477190502, 0.6707445849132874, 0.5529952306222559, 0.604204193286623, 0.6757990016723333, 0.11218342338524123, 0.20142513007179919, 0.7853043293855131, 0.21604343344681798, 0.5783084402378834, 0.8213251677174498, 0.7229061073706854, 0.173192317735125, 0.9401241072740324, 0.13246681173193542, 0.9147376265891759, 0.5327403174686554, 0.30192158707106176, 0.5973671079219817, 0.6635144148175977, 0.20548467480454247, 0.9063358131654071, 0.43275734923393383, 0.4718981653742198, 0.3939529705689784, 0.35858193095702096, 0.03325733369003514, 0.6737058139532952, 0.30729277824512247, 0.7851208081580873, 0.8160066651153769, 0.665159861857537, 0.5919348520784543, 0.06452237268138605, 0.8099560789101095, 0.8002360571502758, 0.6290361635029078, 0.35923459751826103, 0.7038851580985375, 0.367236848289653, 0.01441723592572386, 0.49996227264679316, 0.0809095169238897, 0.41507655030465995, 0.8553429064793943, 0.36164726499956856, 0.3649838672216874, 0.7605800753792461, 0.4494701489160493, 0.8273488326878248, 0.030325149600550216, 0.00959124878842088, 0.12138925315480198, 0.6765200059538029, 0.006065261699096047, 0.05681519988096628, 0.3312104776147411, 0.2822788656918652, 0.8118044603642652, 0.10447999367407124, 0.6742259647757138, 0.15403953624298194, 0.727337522519315, 0.8258754266128312, 0.004452054084095547, 0.8520350673769759, 0.42546540948416334, 0.41456688786343, 0.14290818588160337, 0.590383084775788, 0.21576223440315645, 0.5650225362126773, 0.172641048592038, 0.44835062847466034, 0.9918101734043376, 0.084836226246639, 0.9765345055896446]}],                        {\"legend\": {\"bgcolor\": \"#F5F6F9\", \"font\": {\"color\": \"#4D5663\"}}, \"paper_bgcolor\": \"#F5F6F9\", \"plot_bgcolor\": \"#F5F6F9\", \"template\": {\"data\": {\"bar\": [{\"error_x\": {\"color\": \"#2a3f5f\"}, \"error_y\": {\"color\": \"#2a3f5f\"}, \"marker\": {\"line\": {\"color\": \"#E5ECF6\", \"width\": 0.5}}, \"type\": \"bar\"}], \"barpolar\": [{\"marker\": {\"line\": {\"color\": \"#E5ECF6\", \"width\": 0.5}}, \"type\": \"barpolar\"}], \"carpet\": [{\"aaxis\": {\"endlinecolor\": \"#2a3f5f\", \"gridcolor\": \"white\", \"linecolor\": \"white\", \"minorgridcolor\": \"white\", \"startlinecolor\": \"#2a3f5f\"}, \"baxis\": {\"endlinecolor\": \"#2a3f5f\", \"gridcolor\": \"white\", \"linecolor\": \"white\", \"minorgridcolor\": \"white\", \"startlinecolor\": \"#2a3f5f\"}, \"type\": \"carpet\"}], \"choropleth\": [{\"colorbar\": {\"outlinewidth\": 0, \"ticks\": \"\"}, \"type\": \"choropleth\"}], \"contour\": [{\"colorbar\": {\"outlinewidth\": 0, \"ticks\": \"\"}, \"colorscale\": [[0.0, \"#0d0887\"], [0.1111111111111111, \"#46039f\"], [0.2222222222222222, \"#7201a8\"], [0.3333333333333333, \"#9c179e\"], [0.4444444444444444, \"#bd3786\"], [0.5555555555555556, \"#d8576b\"], [0.6666666666666666, \"#ed7953\"], [0.7777777777777778, \"#fb9f3a\"], [0.8888888888888888, \"#fdca26\"], [1.0, \"#f0f921\"]], \"type\": \"contour\"}], \"contourcarpet\": [{\"colorbar\": {\"outlinewidth\": 0, \"ticks\": \"\"}, \"type\": \"contourcarpet\"}], \"heatmap\": [{\"colorbar\": {\"outlinewidth\": 0, \"ticks\": \"\"}, \"colorscale\": [[0.0, \"#0d0887\"], [0.1111111111111111, \"#46039f\"], [0.2222222222222222, \"#7201a8\"], [0.3333333333333333, \"#9c179e\"], [0.4444444444444444, \"#bd3786\"], [0.5555555555555556, \"#d8576b\"], [0.6666666666666666, \"#ed7953\"], [0.7777777777777778, \"#fb9f3a\"], [0.8888888888888888, \"#fdca26\"], [1.0, \"#f0f921\"]], \"type\": \"heatmap\"}], \"heatmapgl\": [{\"colorbar\": {\"outlinewidth\": 0, \"ticks\": \"\"}, \"colorscale\": [[0.0, \"#0d0887\"], [0.1111111111111111, \"#46039f\"], [0.2222222222222222, \"#7201a8\"], [0.3333333333333333, \"#9c179e\"], [0.4444444444444444, \"#bd3786\"], [0.5555555555555556, \"#d8576b\"], [0.6666666666666666, \"#ed7953\"], [0.7777777777777778, \"#fb9f3a\"], [0.8888888888888888, \"#fdca26\"], [1.0, \"#f0f921\"]], \"type\": \"heatmapgl\"}], \"histogram\": [{\"marker\": {\"colorbar\": {\"outlinewidth\": 0, \"ticks\": \"\"}}, \"type\": \"histogram\"}], \"histogram2d\": [{\"colorbar\": {\"outlinewidth\": 0, \"ticks\": \"\"}, \"colorscale\": [[0.0, \"#0d0887\"], [0.1111111111111111, \"#46039f\"], [0.2222222222222222, \"#7201a8\"], [0.3333333333333333, \"#9c179e\"], [0.4444444444444444, \"#bd3786\"], [0.5555555555555556, \"#d8576b\"], [0.6666666666666666, \"#ed7953\"], [0.7777777777777778, \"#fb9f3a\"], [0.8888888888888888, \"#fdca26\"], [1.0, \"#f0f921\"]], \"type\": \"histogram2d\"}], \"histogram2dcontour\": [{\"colorbar\": {\"outlinewidth\": 0, \"ticks\": \"\"}, \"colorscale\": [[0.0, \"#0d0887\"], [0.1111111111111111, \"#46039f\"], [0.2222222222222222, \"#7201a8\"], [0.3333333333333333, \"#9c179e\"], [0.4444444444444444, \"#bd3786\"], [0.5555555555555556, \"#d8576b\"], [0.6666666666666666, \"#ed7953\"], [0.7777777777777778, \"#fb9f3a\"], [0.8888888888888888, \"#fdca26\"], [1.0, \"#f0f921\"]], \"type\": \"histogram2dcontour\"}], \"mesh3d\": [{\"colorbar\": {\"outlinewidth\": 0, \"ticks\": \"\"}, \"type\": \"mesh3d\"}], \"parcoords\": [{\"line\": {\"colorbar\": {\"outlinewidth\": 0, \"ticks\": \"\"}}, \"type\": \"parcoords\"}], \"pie\": [{\"automargin\": true, \"type\": \"pie\"}], \"scatter\": [{\"marker\": {\"colorbar\": {\"outlinewidth\": 0, \"ticks\": \"\"}}, \"type\": \"scatter\"}], \"scatter3d\": [{\"line\": {\"colorbar\": {\"outlinewidth\": 0, \"ticks\": \"\"}}, \"marker\": {\"colorbar\": {\"outlinewidth\": 0, \"ticks\": \"\"}}, \"type\": \"scatter3d\"}], \"scattercarpet\": [{\"marker\": {\"colorbar\": {\"outlinewidth\": 0, \"ticks\": \"\"}}, \"type\": \"scattercarpet\"}], \"scattergeo\": [{\"marker\": {\"colorbar\": {\"outlinewidth\": 0, \"ticks\": \"\"}}, \"type\": \"scattergeo\"}], \"scattergl\": [{\"marker\": {\"colorbar\": {\"outlinewidth\": 0, \"ticks\": \"\"}}, \"type\": \"scattergl\"}], \"scattermapbox\": [{\"marker\": {\"colorbar\": {\"outlinewidth\": 0, \"ticks\": \"\"}}, \"type\": \"scattermapbox\"}], \"scatterpolar\": [{\"marker\": {\"colorbar\": {\"outlinewidth\": 0, \"ticks\": \"\"}}, \"type\": \"scatterpolar\"}], \"scatterpolargl\": [{\"marker\": {\"colorbar\": {\"outlinewidth\": 0, \"ticks\": \"\"}}, \"type\": \"scatterpolargl\"}], \"scatterternary\": [{\"marker\": {\"colorbar\": {\"outlinewidth\": 0, \"ticks\": \"\"}}, \"type\": \"scatterternary\"}], \"surface\": [{\"colorbar\": {\"outlinewidth\": 0, \"ticks\": \"\"}, \"colorscale\": [[0.0, \"#0d0887\"], [0.1111111111111111, \"#46039f\"], [0.2222222222222222, \"#7201a8\"], [0.3333333333333333, \"#9c179e\"], [0.4444444444444444, \"#bd3786\"], [0.5555555555555556, \"#d8576b\"], [0.6666666666666666, \"#ed7953\"], [0.7777777777777778, \"#fb9f3a\"], [0.8888888888888888, \"#fdca26\"], [1.0, \"#f0f921\"]], \"type\": \"surface\"}], \"table\": [{\"cells\": {\"fill\": {\"color\": \"#EBF0F8\"}, \"line\": {\"color\": \"white\"}}, \"header\": {\"fill\": {\"color\": \"#C8D4E3\"}, \"line\": {\"color\": \"white\"}}, \"type\": \"table\"}]}, \"layout\": {\"annotationdefaults\": {\"arrowcolor\": \"#2a3f5f\", \"arrowhead\": 0, \"arrowwidth\": 1}, \"autotypenumbers\": \"strict\", \"coloraxis\": {\"colorbar\": {\"outlinewidth\": 0, \"ticks\": \"\"}}, \"colorscale\": {\"diverging\": [[0, \"#8e0152\"], [0.1, \"#c51b7d\"], [0.2, \"#de77ae\"], [0.3, \"#f1b6da\"], [0.4, \"#fde0ef\"], [0.5, \"#f7f7f7\"], [0.6, \"#e6f5d0\"], [0.7, \"#b8e186\"], [0.8, \"#7fbc41\"], [0.9, \"#4d9221\"], [1, \"#276419\"]], \"sequential\": [[0.0, \"#0d0887\"], [0.1111111111111111, \"#46039f\"], [0.2222222222222222, \"#7201a8\"], [0.3333333333333333, \"#9c179e\"], [0.4444444444444444, \"#bd3786\"], [0.5555555555555556, \"#d8576b\"], [0.6666666666666666, \"#ed7953\"], [0.7777777777777778, \"#fb9f3a\"], [0.8888888888888888, \"#fdca26\"], [1.0, \"#f0f921\"]], \"sequentialminus\": [[0.0, \"#0d0887\"], [0.1111111111111111, \"#46039f\"], [0.2222222222222222, \"#7201a8\"], [0.3333333333333333, \"#9c179e\"], [0.4444444444444444, \"#bd3786\"], [0.5555555555555556, \"#d8576b\"], [0.6666666666666666, \"#ed7953\"], [0.7777777777777778, \"#fb9f3a\"], [0.8888888888888888, \"#fdca26\"], [1.0, \"#f0f921\"]]}, \"colorway\": [\"#636efa\", \"#EF553B\", \"#00cc96\", \"#ab63fa\", \"#FFA15A\", \"#19d3f3\", \"#FF6692\", \"#B6E880\", \"#FF97FF\", \"#FECB52\"], \"font\": {\"color\": \"#2a3f5f\"}, \"geo\": {\"bgcolor\": \"white\", \"lakecolor\": \"white\", \"landcolor\": \"#E5ECF6\", \"showlakes\": true, \"showland\": true, \"subunitcolor\": \"white\"}, \"hoverlabel\": {\"align\": \"left\"}, \"hovermode\": \"closest\", \"mapbox\": {\"style\": \"light\"}, \"paper_bgcolor\": \"white\", \"plot_bgcolor\": \"#E5ECF6\", \"polar\": {\"angularaxis\": {\"gridcolor\": \"white\", \"linecolor\": \"white\", \"ticks\": \"\"}, \"bgcolor\": \"#E5ECF6\", \"radialaxis\": {\"gridcolor\": \"white\", \"linecolor\": \"white\", \"ticks\": \"\"}}, \"scene\": {\"xaxis\": {\"backgroundcolor\": \"#E5ECF6\", \"gridcolor\": \"white\", \"gridwidth\": 2, \"linecolor\": \"white\", \"showbackground\": true, \"ticks\": \"\", \"zerolinecolor\": \"white\"}, \"yaxis\": {\"backgroundcolor\": \"#E5ECF6\", \"gridcolor\": \"white\", \"gridwidth\": 2, \"linecolor\": \"white\", \"showbackground\": true, \"ticks\": \"\", \"zerolinecolor\": \"white\"}, \"zaxis\": {\"backgroundcolor\": \"#E5ECF6\", \"gridcolor\": \"white\", \"gridwidth\": 2, \"linecolor\": \"white\", \"showbackground\": true, \"ticks\": \"\", \"zerolinecolor\": \"white\"}}, \"shapedefaults\": {\"line\": {\"color\": \"#2a3f5f\"}}, \"ternary\": {\"aaxis\": {\"gridcolor\": \"white\", \"linecolor\": \"white\", \"ticks\": \"\"}, \"baxis\": {\"gridcolor\": \"white\", \"linecolor\": \"white\", \"ticks\": \"\"}, \"bgcolor\": \"#E5ECF6\", \"caxis\": {\"gridcolor\": \"white\", \"linecolor\": \"white\", \"ticks\": \"\"}}, \"title\": {\"x\": 0.05}, \"xaxis\": {\"automargin\": true, \"gridcolor\": \"white\", \"linecolor\": \"white\", \"ticks\": \"\", \"title\": {\"standoff\": 15}, \"zerolinecolor\": \"white\", \"zerolinewidth\": 2}, \"yaxis\": {\"automargin\": true, \"gridcolor\": \"white\", \"linecolor\": \"white\", \"ticks\": \"\", \"title\": {\"standoff\": 15}, \"zerolinecolor\": \"white\", \"zerolinewidth\": 2}}}, \"title\": {\"font\": {\"color\": \"#4D5663\"}}, \"xaxis\": {\"gridcolor\": \"#E1E5ED\", \"showgrid\": true, \"tickfont\": {\"color\": \"#4D5663\"}, \"title\": {\"font\": {\"color\": \"#4D5663\"}, \"text\": \"\"}, \"zerolinecolor\": \"#E1E5ED\"}, \"yaxis\": {\"gridcolor\": \"#E1E5ED\", \"showgrid\": true, \"tickfont\": {\"color\": \"#4D5663\"}, \"title\": {\"font\": {\"color\": \"#4D5663\"}, \"text\": \"\"}, \"zerolinecolor\": \"#E1E5ED\"}},                        {\"showLink\": true, \"linkText\": \"Export to plot.ly\", \"plotlyServerURL\": \"https://plot.ly\", \"responsive\": true}                    ).then(function(){\n",
       "                            \n",
       "var gd = document.getElementById('0ddf5954-b0ce-4b7b-9ad7-2412b73d2b2d');\n",
       "var x = new MutationObserver(function (mutations, observer) {{\n",
       "        var display = window.getComputedStyle(gd).display;\n",
       "        if (!display || display === 'none') {{\n",
       "            console.log([gd, 'removed!']);\n",
       "            Plotly.purge(gd);\n",
       "            observer.disconnect();\n",
       "        }}\n",
       "}});\n",
       "\n",
       "// Listen for the removal of the full notebook cells\n",
       "var notebookContainer = gd.closest('#notebook-container');\n",
       "if (notebookContainer) {{\n",
       "    x.observe(notebookContainer, {childList: true});\n",
       "}}\n",
       "\n",
       "// Listen for the clearing of the current output cell\n",
       "var outputEl = gd.closest('.output');\n",
       "if (outputEl) {{\n",
       "    x.observe(outputEl, {childList: true});\n",
       "}}\n",
       "\n",
       "                        })                };                });            </script>        </div>"
      ]
     },
     "metadata": {},
     "output_type": "display_data"
    }
   ],
   "source": [
    "main(cat)"
   ]
  },
  {
   "cell_type": "code",
   "execution_count": null,
   "id": "0d4ac128",
   "metadata": {},
   "outputs": [],
   "source": []
  },
  {
   "cell_type": "code",
   "execution_count": null,
   "id": "9d80bd29",
   "metadata": {},
   "outputs": [],
   "source": []
  }
 ],
 "metadata": {
  "kernelspec": {
   "display_name": "Python 3 (ipykernel)",
   "language": "python",
   "name": "python3"
  },
  "language_info": {
   "codemirror_mode": {
    "name": "ipython",
    "version": 3
   },
   "file_extension": ".py",
   "mimetype": "text/x-python",
   "name": "python",
   "nbconvert_exporter": "python",
   "pygments_lexer": "ipython3",
   "version": "3.9.7"
  }
 },
 "nbformat": 4,
 "nbformat_minor": 5
}
